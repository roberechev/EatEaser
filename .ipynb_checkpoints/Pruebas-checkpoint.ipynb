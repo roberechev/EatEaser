{
 "cells": [
  {
   "cell_type": "markdown",
   "id": "785f7877",
   "metadata": {},
   "source": [
    "# Pruebas de STEMMING la mejor es RSLPStemmer"
   ]
  },
  {
   "cell_type": "code",
   "execution_count": null,
   "id": "61c7a595",
   "metadata": {},
   "outputs": [],
   "source": [
    "import nltk\n",
    "from nltk.stem.rslp import RSLPStemmer\n",
    "nltk.download('rslp')\n",
    "\n",
    "# Crear un objeto SnowballStemmer para el idioma español\n",
    "stemmer = RSLPStemmer()\n",
    "\n",
    "# Crear una lista de palabras\n",
    "words = ['corriendo', 'corredor', 'corrió', 'corre', 'fácilmente', 'justamente','libreria','librero','libro','librera']\n",
    "\n",
    "# Aplicar el stemming a cada palabra\n",
    "stemmed_words = [stemmer.stem(word) for word in words]\n",
    "\n",
    "print(stemmed_words)"
   ]
  },
  {
   "cell_type": "code",
   "execution_count": null,
   "id": "1cce965b",
   "metadata": {},
   "outputs": [],
   "source": [
    "import nltk\n",
    "from nltk.stem.snowball import SnowballStemmer\n",
    "\n",
    "# Crear un objeto SnowballStemmer para el idioma español\n",
    "stemmer = SnowballStemmer('spanish')\n",
    "\n",
    "# Crear una lista de palabras\n",
    "words = ['corriendo', 'corredor', 'corrió', 'corre', 'fácilmente', 'justamente','libreria','librero','libro','librera']\n",
    "\n",
    "# Aplicar el stemming a cada palabra\n",
    "stemmed_words = [stemmer.stem(word) for word in words]\n",
    "\n",
    "print(stemmed_words)"
   ]
  },
  {
   "cell_type": "code",
   "execution_count": null,
   "id": "74eee43d",
   "metadata": {},
   "outputs": [],
   "source": [
    "from nltk.stem.snowball import SpanishStemmer\n",
    "\n",
    "stemmer = SpanishStemmer()\n",
    "\n",
    "words = ['corriendo', 'corredor', 'corrió', 'corre', 'fácilmente', 'justamente','libreria','librero','libro','librera']\n",
    "\n",
    "# Aplicamos el stemming a cada palabra del texto\n",
    "stemmed_words = [stemmer.stem(word) for word in words]\n",
    "\n",
    "print(stemmed_words)"
   ]
  },
  {
   "cell_type": "code",
   "execution_count": null,
   "id": "a6f68d9d",
   "metadata": {},
   "outputs": [],
   "source": []
  },
  {
   "cell_type": "code",
   "execution_count": null,
   "id": "7096bba3",
   "metadata": {},
   "outputs": [],
   "source": []
  },
  {
   "cell_type": "code",
   "execution_count": null,
   "id": "c8db9253",
   "metadata": {},
   "outputs": [],
   "source": []
  },
  {
   "cell_type": "code",
   "execution_count": null,
   "id": "10327b32",
   "metadata": {},
   "outputs": [],
   "source": []
  }
 ],
 "metadata": {
  "kernelspec": {
   "display_name": "Python 3 (ipykernel)",
   "language": "python",
   "name": "python3"
  },
  "language_info": {
   "codemirror_mode": {
    "name": "ipython",
    "version": 3
   },
   "file_extension": ".py",
   "mimetype": "text/x-python",
   "name": "python",
   "nbconvert_exporter": "python",
   "pygments_lexer": "ipython3",
   "version": "3.9.12"
  }
 },
 "nbformat": 4,
 "nbformat_minor": 5
}
