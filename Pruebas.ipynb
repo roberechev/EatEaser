{
 "cells": [
  {
   "cell_type": "markdown",
   "id": "785f7877",
   "metadata": {},
   "source": [
    "# Pruebas de STEMMING la mejor es RSLPStemmer"
   ]
  },
  {
   "cell_type": "code",
   "execution_count": 1,
   "id": "61c7a595",
   "metadata": {},
   "outputs": [
    {
     "name": "stdout",
     "output_type": "stream",
     "text": [
      "['corri', 'corr', 'corrió', 'corr', 'fácil', 'just', 'libr', 'librer', 'libr', 'libr']\n"
     ]
    },
    {
     "name": "stderr",
     "output_type": "stream",
     "text": [
      "[nltk_data] Downloading package rslp to\n",
      "[nltk_data]     C:\\Users\\rober\\AppData\\Roaming\\nltk_data...\n",
      "[nltk_data]   Package rslp is already up-to-date!\n"
     ]
    }
   ],
   "source": [
    "import nltk\n",
    "from nltk.stem.rslp import RSLPStemmer\n",
    "nltk.download('rslp')\n",
    "\n",
    "# Crear un objeto SnowballStemmer para el idioma español\n",
    "stemmer = RSLPStemmer()\n",
    "\n",
    "# Crear una lista de palabras\n",
    "words = ['corriendo', 'corredor', 'corrió', 'corre', 'fácilmente', 'justamente','libreria','librero','libro','librera']\n",
    "\n",
    "# Aplicar el stemming a cada palabra\n",
    "stemmed_words = [stemmer.stem(word) for word in words]\n",
    "\n",
    "print(stemmed_words)"
   ]
  },
  {
   "cell_type": "code",
   "execution_count": 2,
   "id": "1cce965b",
   "metadata": {},
   "outputs": [
    {
     "name": "stdout",
     "output_type": "stream",
     "text": [
      "['corr', 'corredor', 'corr', 'corr', 'facil', 'just', 'libreri', 'librer', 'libr', 'librer']\n"
     ]
    }
   ],
   "source": [
    "import nltk\n",
    "from nltk.stem.snowball import SnowballStemmer\n",
    "\n",
    "# Crear un objeto SnowballStemmer para el idioma español\n",
    "stemmer = SnowballStemmer('spanish')\n",
    "\n",
    "# Crear una lista de palabras\n",
    "words = ['corriendo', 'corredor', 'corrió', 'corre', 'fácilmente', 'justamente','libreria','librero','libro','librera']\n",
    "\n",
    "# Aplicar el stemming a cada palabra\n",
    "stemmed_words = [stemmer.stem(word) for word in words]\n",
    "\n",
    "print(stemmed_words)"
   ]
  },
  {
   "cell_type": "code",
   "execution_count": 3,
   "id": "74eee43d",
   "metadata": {},
   "outputs": [
    {
     "name": "stdout",
     "output_type": "stream",
     "text": [
      "['corr', 'corredor', 'corr', 'corr', 'facil', 'just', 'libreri', 'librer', 'libr', 'librer']\n"
     ]
    }
   ],
   "source": [
    "from nltk.stem.snowball import SpanishStemmer\n",
    "\n",
    "stemmer = SpanishStemmer()\n",
    "\n",
    "words = ['corriendo', 'corredor', 'corrió', 'corre', 'fácilmente', 'justamente','libreria','librero','libro','librera']\n",
    "\n",
    "# Aplicamos el stemming a cada palabra del texto\n",
    "stemmed_words = [stemmer.stem(word) for word in words]\n",
    "\n",
    "print(stemmed_words)"
   ]
  },
  {
   "cell_type": "markdown",
   "id": "f5803841",
   "metadata": {},
   "source": [
    "# Pruebas REGEX"
   ]
  },
  {
   "cell_type": "code",
   "execution_count": 44,
   "id": "7096bba3",
   "metadata": {},
   "outputs": [],
   "source": [
    "import re"
   ]
  },
  {
   "cell_type": "code",
   "execution_count": 45,
   "id": "c8db9253",
   "metadata": {},
   "outputs": [
    {
     "name": "stdout",
     "output_type": "stream",
     "text": [
      "hola buebas\n",
      " tardes, me llamo \n",
      "juan,  quitar todo\n"
     ]
    }
   ],
   "source": [
    "info = 'hola buebas0250-00-00\\n tardes, me llamo v=shdfdsbj\\njuan, 00:00:00 quitar todo'\n",
    "textoSinSimbolos = re.sub(\"\\d+:\\d+:\\d+\", \"\" , info)\n",
    "textoSinSimbolos = re.sub(\"\\d+-\\d+-\\d+\", \"\" , textoSinSimbolos)\n",
    "textoSinSimbolos = re.sub(\"v=.*\", \"\" , textoSinSimbolos)\n",
    "print(textoSinSimbolos)"
   ]
  },
  {
   "cell_type": "markdown",
   "id": "ebf64a72",
   "metadata": {},
   "source": [
    "# Pruebas WebScraping"
   ]
  },
  {
   "cell_type": "code",
   "execution_count": 49,
   "id": "4f37d1a2",
   "metadata": {},
   "outputs": [],
   "source": [
    "import urllib.request\n",
    "from PIL import Image\n",
    "image_url = \"https://recetas.lidl.es/var/site/storage/images/_aliases/480x270/5/8/7/7/3717785-2-spa-ES/01b4b3c93b53-al.jpg\"\n",
    "with urllib.request.urlopen(image_url) as url:\n",
    "    image = Image.open(url)\n",
    "image.show()"
   ]
  },
  {
   "cell_type": "code",
   "execution_count": 50,
   "id": "39138ebb",
   "metadata": {},
   "outputs": [],
   "source": [
    "import requests\n",
    "from bs4 import BeautifulSoup\n",
    "from selenium import webdriver\n",
    "from webdriver_manager.chrome import ChromeDriverManager\n",
    "from selenium.webdriver.common.by import By\n",
    "\n",
    "from selenium.webdriver.common.keys import Keys\n",
    "from selenium.webdriver.common.action_chains import ActionChains\n",
    "\n",
    "import time\n",
    "\n",
    "\n",
    "class WebScraping:\n",
    "    def conexionPaginaWebLidl(self, KeyWord):\n",
    "        driver = webdriver.Chrome(ChromeDriverManager().install())\n",
    "        urlLidl = \"https://recetas.lidl.es/\"\n",
    "        driver.get(urlLidl)\n",
    "        time.sleep(0.5)\n",
    "        self.quitarCookiesLidl(driver)\n",
    "        time.sleep(1)\n",
    "        self.sacarInfoLidl(driver, KeyWord)\n",
    "        return driver\n",
    "    def conexionPaginaWebAhorraMas(self, KeyWord):\n",
    "        urlAhorraMas = \"https://www.ahorramas.com/buscador?q=\" + KeyWord\n",
    "        response = requests.get(urlAhorraMas)\n",
    "        soup = BeautifulSoup(response.content, \"html.parser\")\n",
    "        time.sleep(0.5)\n",
    "        self.sacarInfoAhorraMas(driver)\n",
    "        return driver\n",
    "    def quitarCookiesLidl(self, driver):\n",
    "        #si sale el boton de las koockies lo acepta\n",
    "        try:\n",
    "            driver.find_element(By.CLASS_NAME, \"cookie-alert-extended-button\").click()\n",
    "            print(\"Boton aceptar coquies seleccionado\")\n",
    "        except:\n",
    "            print(\"No sale boton de aceptar coquies\")\n",
    "    def sacarInfoLidl(self, driver, KeyWord):\n",
    "        #Para entrar en el alimento que nosotros queremos\n",
    "        escribirIngrediente = driver.find_element(By.CLASS_NAME, \"inputField.js_mIngredientSearchGroup-input\")\n",
    "        escribirIngrediente.send_keys(KeyWord)\n",
    "        # hay que darle un poco de tiempo para que despues de escribir seleccione el enter sino no lo ejecuta bien\n",
    "        time.sleep(2)\n",
    "        escribirIngrediente.send_keys(Keys.RETURN)\n",
    "\n",
    "        time.sleep(2)\n",
    "        #PARA COGER EL NOMBRE DE LA RECETA DEL PRODUCTO\n",
    "        todasRecetas = driver.find_element(By.CLASS_NAME, \"oRecipeFeed-resultContainer.js_oRecipeFeed-resultContainer\")\n",
    "        time.sleep(1)\n",
    "        nombre = todasRecetas.find_elements(By.CLASS_NAME, \"mRecipeTeaser-title\")\n",
    "        listaNombres = []\n",
    "        for n in nombre:\n",
    "            listaNombres.append(n.text)\n",
    "\n",
    "        #PARA COGER EL TIEMPO DEL PRUDUCTO EN COCINARSE\n",
    "        tiempoReceta = todasRecetas.find_elements(By.CLASS_NAME, \"mTimer-time\")\n",
    "        listaTiempos = []\n",
    "        for t in tiempoReceta:\n",
    "            listaTiempos.append(t.text)\n",
    "        time.sleep(0.5)\n",
    "\n",
    "        #PARA COGER LA IMAGEN DEL PRODUCTO\n",
    "        src = todasRecetas.find_elements(By.CLASS_NAME, \"picture-img.mRecipeTeaser-image.lazyloaded\")\n",
    "        listaImagenes=[]\n",
    "        for s in src:\n",
    "            listaImagenes.append(s.get_attribute(\"src\"))\n",
    "\n",
    "        #PARA COGER LA URL DE LA RECETA\n",
    "        href = todasRecetas.find_elements(By.CLASS_NAME, \"mRecipeTeaser-link\")\n",
    "        listaURL=[]\n",
    "        for h in href:\n",
    "            listaURL.append(h.get_attribute(\"href\"))\n",
    "            \n",
    "        i = 0\n",
    "        for i in range(len(listaImagenes)):\n",
    "            print(listaNombres[i])\n",
    "            print(listaTiempos[i])\n",
    "            print(listaImagenes[i])\n",
    "            print(listaURL[i])\n",
    "            print(\"-----------------------------------\")\n",
    "            i+=1\n",
    "    def sacarInfoAhorraMas(self, driver):\n",
    "        #PARA COGER EL NOMBRE DEL PRODUCTO\n",
    "        bodyInformacion = soup.find_all(class_=\"tile-body\")\n",
    "        listaNombres = []\n",
    "        for np in bodyInformacion:\n",
    "            nombreProducto = np.find(class_=\"link product-name-gtm\")\n",
    "            listaNombres.append(nombreProducto.text)\n",
    "        \n",
    "        #PARA COGER EL PRECIO DEL PRODUCTO\n",
    "        bodyInformacion = soup.find_all(class_=\"tile-body\")\n",
    "        listaPrecios = []\n",
    "        for p in bodyInformacion:\n",
    "            valorProducto = p.find(class_=\"value\")\n",
    "            #utilizamos strip para eliminar los espacios en blanco tanto delante como detras del precio\n",
    "            listaPrecios.append(valorProducto.text.strip())\n",
    "        \n",
    "        #PARA COGER LA IMAGEN DEL PRODUCTO\n",
    "        src = soup.find_all(class_=\"tile-image\")\n",
    "        listaImagenes=[]\n",
    "        for s in src:\n",
    "            listaImagenes.append(s[\"src\"])\n",
    "        \n",
    "        #PARA COGER LA URL DEL PRODUCTO\n",
    "        href = soup.find_all(class_=\"product-pdp-link\")\n",
    "        listaURL=[]\n",
    "        for h in href:\n",
    "            #concatenamos la direccion de la pagina la cual no incluye el href al usar beautifulsoup\n",
    "            listaURL.append(\"https://www.ahorramas.com\" + h[\"href\"])\n",
    "        #Eliminamos los elementos duplicados ya que coge cada url duplicada\n",
    "        #print(len(listaURL))\n",
    "        listaURLSinDuplicados = []\n",
    "        for url in listaURL:\n",
    "            if url not in listaURLSinDuplicados:\n",
    "                listaURLSinDuplicados.append(url)\n",
    "        #print(len(listaURLSinDuplicados))\n",
    "        \n",
    "        \n",
    "        i = 0\n",
    "        for i in range(len(listaImagenes)):\n",
    "            print(listaPrecios[i])\n",
    "            print(listaNombres[i])\n",
    "            print(listaImagenes[i])\n",
    "            print(listaURLSinDuplicados[i])\n",
    "            print(\"-----------------------------------\")\n",
    "            i+=1"
   ]
  },
  {
   "cell_type": "code",
   "execution_count": 51,
   "id": "3718a190",
   "metadata": {},
   "outputs": [
    {
     "name": "stderr",
     "output_type": "stream",
     "text": [
      "C:\\Users\\rober\\AppData\\Local\\Temp\\ipykernel_12408\\1644269853.py:15: DeprecationWarning: executable_path has been deprecated, please pass in a Service object\n",
      "  driver = webdriver.Chrome(ChromeDriverManager().install())\n"
     ]
    },
    {
     "name": "stdout",
     "output_type": "stream",
     "text": [
      "Boton aceptar coquies seleccionado\n",
      "Salmón al horno con piña y verdura\n",
      "35 min\n",
      "https://recetas.lidl.es/var/site/storage/images/_aliases/480x270/5/8/7/7/3717785-2-spa-ES/01b4b3c93b53-al.jpg\n",
      "https://recetas.lidl.es/recetas/salmon-al-horno-con-pina-y-verdura\n",
      "-----------------------------------\n",
      "Sopa de picadillo\n",
      "1:20 h\n",
      "https://recetas.lidl.es/var/site/storage/images/_aliases/480x270/9/9/9/7/3297999-1-spa-ES/a141290eb6eb-sopa.jpg\n",
      "https://recetas.lidl.es/recetas/sopa-de-picadillo\n",
      "-----------------------------------\n",
      "Crujiente de queso con picadito de verduras\n",
      "45 min\n",
      "https://recetas.lidl.es/var/site/storage/images/_aliases/480x270/0/5/9/4/3274950-1-spa-ES/b05567d866ed-lidl_receta_1100x509_crujiente-queso_final.jpg\n",
      "https://recetas.lidl.es/recetas/crujiente-de-queso-con-picadito-de-verduras\n",
      "-----------------------------------\n",
      "Empanada terrorífica rellena de pollo\n",
      "1:40 h\n",
      "https://recetas.lidl.es/var/site/storage/images/_aliases/480x270/2/7/6/0/3260672-9-spa-ES/f2ee0e457502-16.9cenital-empanada-terrorifica.jpg\n",
      "https://recetas.lidl.es/recetas/empanada-terrorifica-rellena-de-pollo\n",
      "-----------------------------------\n",
      "Paella de verduras\n",
      "1:05 h\n",
      "https://recetas.lidl.es/var/site/storage/images/_aliases/480x270/4/0/2/5/3215204-1-spa-ES/01308f51db78-receta-paella-verduras.jpg\n",
      "https://recetas.lidl.es/recetas/paella-de-verduras\n",
      "-----------------------------------\n",
      "Cómo decorar gazpacho y salmorejo\n",
      "48 min\n",
      "https://recetas.lidl.es/var/site/storage/images/_aliases/480x270/3/9/5/8/3018593-1-spa-ES/3d0e100fc551-receta-decorar-gazpacho-salmorejo.jpg\n",
      "https://recetas.lidl.es/recetas/como-decorar-gazpacho-y-salmorejo\n",
      "-----------------------------------\n",
      "---------------------------------------------------------------\n",
      "---------------------------------------------------------------\n",
      "---------------------------------------------------------------\n",
      "---------------------------------------------------------------\n",
      "---------------------------------------------------------------\n",
      "2,39€\n",
      "Pimiento rojo lamuyo\n",
      "https://www.ahorramas.com/dw/image/v2/BFNH_PRD/on/demandware.static/-/Sites-ahorramas-master/default/dw3f7448b6/Assets/01924_C1C1/large/0/7/3/4/0734d0e2ff1493f0d74bbac31bfbaa7be76b4fa2_01924_C1C1.jpg?sw=400&sh=900&sm=fit\n",
      "https://www.ahorramas.com/pimiento-rojo-lamuyo-1924.html\n",
      "-----------------------------------\n",
      "3,64€\n",
      "Pimiento rojo italiano\n",
      "https://www.ahorramas.com/dw/image/v2/BFNH_PRD/on/demandware.static/-/Sites-ahorramas-master/default/dw10c5838b/Assets/018555_C1C1/large/3/4/c/d/34cd598385f72e30c44c76c7576913c11cc08b00_018555_C1C1.jpg?sw=400&sh=900&sm=fit\n",
      "https://www.ahorramas.com/pimiento-rojo-italiano-18555.html\n",
      "-----------------------------------\n",
      "2,39€\n",
      "Pimiento verde italiano\n",
      "https://www.ahorramas.com/dw/image/v2/BFNH_PRD/on/demandware.static/-/Sites-ahorramas-master/default/dwc43bb3e3/Assets/01607_C1C1/large/c/d/b/2/cdb20a4d340bae5f4063f6ff2caef472a0af7dcc_01607_C1C1.jpg?sw=400&sh=900&sm=fit\n",
      "https://www.ahorramas.com/pimiento-verde-italiano-1607.html\n",
      "-----------------------------------\n",
      "2,68€\n",
      "Pimiento verde lamuyo\n",
      "https://www.ahorramas.com/dw/image/v2/BFNH_PRD/on/demandware.static/-/Sites-ahorramas-master/default/dwf5f7b537/Assets/01634_C1C1/large/8/e/9/4/8e9420339550210b4c9420d4fc0997440152c4ac_01634_C1C1.jpg?sw=400&sh=900&sm=fit\n",
      "https://www.ahorramas.com/pimiento-verde-lamuyo-1634.html\n",
      "-----------------------------------\n",
      "1,91€\n",
      "Pimiento tricolor 500g\n",
      "https://www.ahorramas.com/dw/image/v2/BFNH_PRD/on/demandware.static/-/Sites-ahorramas-master/default/dwb69010d5/Assets/061711_C1C1/large/2/a/9/0/2a90b623dd805763771cacdcd9b4827e5e663fcf_061711_C1C1.jpg?sw=400&sh=900&sm=fit\n",
      "https://www.ahorramas.com/pimiento-tricolor-500g-61711.html\n",
      "-----------------------------------\n",
      "1,14€\n",
      "Pimiento mini dulce 200g\n",
      "https://www.ahorramas.com/dw/image/v2/BFNH_PRD/on/demandware.static/-/Sites-ahorramas-master/default/dw72e92503/Assets/071840_C1C1/large/4/1/e/e/41ee0eb17cebb52369741468796be1909caa591b_071840_C1C1.jpg?sw=400&sh=900&sm=fit\n",
      "https://www.ahorramas.com/pimiento-mini-dulce-200g-71840.html\n",
      "-----------------------------------\n",
      "2,20€\n",
      "Pimiento italiano tricolor bolsa 500g\n",
      "https://www.ahorramas.com/dw/image/v2/BFNH_PRD/on/demandware.static/-/Sites-ahorramas-master/default/dw77d6a06e/Assets/033163_C1C1/large/f/0/a/e/f0ae84e7b90dfa49a63ace252da7033450a171af_033163_C1C1.jpg?sw=400&sh=900&sm=fit\n",
      "https://www.ahorramas.com/pimiento-italiano-tricolor-bolsa-500g-33163.html\n",
      "-----------------------------------\n",
      "2,99€\n",
      "Ración de pimientos asados\n",
      "https://www.ahorramas.com/dw/image/v2/BFNH_PRD/on/demandware.static/-/Sites-ahorramas-master/default/dw45896162/Assets/050992_C1C1/large/3/c/4/0/3c40b549727af416bac4810836e4c89abc97709b_050992_C1C1.jpg?sw=400&sh=900&sm=fit\n",
      "https://www.ahorramas.com/racion-de-pimientos-asados-50992.html\n",
      "-----------------------------------\n",
      "5,99€\n",
      "Ración de pimientos rellenos de bacalao\n",
      "https://www.ahorramas.com/dw/image/v2/BFNH_PRD/on/demandware.static/-/Sites-ahorramas-master/default/dwb89163b3/Assets/053347_C1C1/large/3/9/8/8/39888f43cb3ef5c5f4fa25ded1f47e468b83d0eb_053347_C1C1.jpg?sw=400&sh=900&sm=fit\n",
      "https://www.ahorramas.com/racion-de-pimientos-rellenos-de-bacalao-53347.html\n",
      "-----------------------------------\n",
      "2,50€\n",
      "Bocadillo atún con pimientos\n",
      "https://www.ahorramas.com/dw/image/v2/BFNH_PRD/on/demandware.static/-/Sites-ahorramas-master/default/dw228d3d82/Assets/052480_C1C1/large/8/a/3/7/8a37f06fbba0dda3bfcbddaa00084d70edc3718c_052480_C1C1.jpg?sw=400&sh=900&sm=fit\n",
      "https://www.ahorramas.com/bocadillo-atun-con-pimientos-52480.html\n",
      "-----------------------------------\n",
      "1,39€\n",
      "Carne de pimiento choricero Celorrio 125g\n",
      "https://www.ahorramas.com/dw/image/v2/BFNH_PRD/on/demandware.static/-/Sites-ahorramas-master/default/dwdb51ce76/Assets/031173_C1C1/large/4/c/3/f/4c3f088691d832f4943edcf8cce48a965c3fdc33_031173_C1C1.jpg?sw=400&sh=900&sm=fit\n",
      "https://www.ahorramas.com/carne-de-pimiento-choricero-celorrio-125g-31173.html\n",
      "-----------------------------------\n",
      "2,50€\n",
      "Pimiento rojo asado Cano 500g\n",
      "https://www.ahorramas.com/dw/image/v2/BFNH_PRD/on/demandware.static/-/Sites-ahorramas-master/default/dwc1607d8f/Assets/056572_C1C1/large/f/3/a/8/f3a83ac0c3fc8ae2492abd43f9a1fc80fdf42fcc_056572_C1C1.jpg?sw=400&sh=900&sm=fit\n",
      "https://www.ahorramas.com/pimiento-rojo-asado-cano-500g-56572.html\n",
      "-----------------------------------\n"
     ]
    }
   ],
   "source": [
    "ws=WebScraping()\n",
    "driver = ws.conexionPaginaWebLidl(\"pimiento\")\n",
    "print(\"---------------------------------------------------------------\")\n",
    "print(\"---------------------------------------------------------------\")\n",
    "print(\"---------------------------------------------------------------\")\n",
    "print(\"---------------------------------------------------------------\")\n",
    "print(\"---------------------------------------------------------------\")\n",
    "ws.conexionPaginaWebAhorraMas(\"pimiento\")\n",
    "time.sleep(1)\n",
    "driver.close()"
   ]
  },
  {
   "cell_type": "code",
   "execution_count": null,
   "id": "fdb87c74",
   "metadata": {},
   "outputs": [],
   "source": []
  }
 ],
 "metadata": {
  "kernelspec": {
   "display_name": "Python 3 (ipykernel)",
   "language": "python",
   "name": "python3"
  },
  "language_info": {
   "codemirror_mode": {
    "name": "ipython",
    "version": 3
   },
   "file_extension": ".py",
   "mimetype": "text/x-python",
   "name": "python",
   "nbconvert_exporter": "python",
   "pygments_lexer": "ipython3",
   "version": "3.9.12"
  }
 },
 "nbformat": 4,
 "nbformat_minor": 5
}
